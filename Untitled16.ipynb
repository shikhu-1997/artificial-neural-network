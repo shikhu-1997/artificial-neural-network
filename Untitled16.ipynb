{
 "cells": [
  {
   "cell_type": "code",
   "execution_count": 1,
   "metadata": {},
   "outputs": [],
   "source": [
    "import numpy as np\n",
    "import pandas as pd\n",
    "import matplotlib.pyplot as plt"
   ]
  },
  {
   "cell_type": "code",
   "execution_count": 2,
   "metadata": {},
   "outputs": [],
   "source": [
    "dataset=pd.read_csv('Churn_Modelling.csv')"
   ]
  },
  {
   "cell_type": "code",
   "execution_count": 3,
   "metadata": {},
   "outputs": [],
   "source": [
    "X=dataset.iloc[:,3:13].values\n",
    "y=dataset.iloc[:,13].values"
   ]
  },
  {
   "cell_type": "code",
   "execution_count": 4,
   "metadata": {},
   "outputs": [
    {
     "data": {
      "text/plain": [
       "array([[619, 'France', 'Female', ..., 1, 1, 101348.88],\n",
       "       [608, 'Spain', 'Female', ..., 0, 1, 112542.58],\n",
       "       [502, 'France', 'Female', ..., 1, 0, 113931.57],\n",
       "       ...,\n",
       "       [709, 'France', 'Female', ..., 0, 1, 42085.58],\n",
       "       [772, 'Germany', 'Male', ..., 1, 0, 92888.52],\n",
       "       [792, 'France', 'Female', ..., 1, 0, 38190.78]], dtype=object)"
      ]
     },
     "execution_count": 4,
     "metadata": {},
     "output_type": "execute_result"
    }
   ],
   "source": [
    "X"
   ]
  },
  {
   "cell_type": "code",
   "execution_count": 5,
   "metadata": {},
   "outputs": [],
   "source": [
    "from sklearn.preprocessing import LabelEncoder,OneHotEncoder\n",
    "labelencoder_X_1=LabelEncoder()\n",
    "X[:,1]=labelencoder_X_1.fit_transform(X[:,1])"
   ]
  },
  {
   "cell_type": "code",
   "execution_count": 6,
   "metadata": {},
   "outputs": [
    {
     "data": {
      "text/plain": [
       "array([[619, 0, 'Female', ..., 1, 1, 101348.88],\n",
       "       [608, 2, 'Female', ..., 0, 1, 112542.58],\n",
       "       [502, 0, 'Female', ..., 1, 0, 113931.57],\n",
       "       ...,\n",
       "       [709, 0, 'Female', ..., 0, 1, 42085.58],\n",
       "       [772, 1, 'Male', ..., 1, 0, 92888.52],\n",
       "       [792, 0, 'Female', ..., 1, 0, 38190.78]], dtype=object)"
      ]
     },
     "execution_count": 6,
     "metadata": {},
     "output_type": "execute_result"
    }
   ],
   "source": [
    "X"
   ]
  },
  {
   "cell_type": "code",
   "execution_count": 7,
   "metadata": {},
   "outputs": [],
   "source": [
    "labelencoder_X_2=LabelEncoder()\n",
    "X[:,2]=labelencoder_X_2.fit_transform(X[:,2])"
   ]
  },
  {
   "cell_type": "code",
   "execution_count": 8,
   "metadata": {},
   "outputs": [
    {
     "data": {
      "text/plain": [
       "array([[619, 0, 0, ..., 1, 1, 101348.88],\n",
       "       [608, 2, 0, ..., 0, 1, 112542.58],\n",
       "       [502, 0, 0, ..., 1, 0, 113931.57],\n",
       "       ...,\n",
       "       [709, 0, 0, ..., 0, 1, 42085.58],\n",
       "       [772, 1, 1, ..., 1, 0, 92888.52],\n",
       "       [792, 0, 0, ..., 1, 0, 38190.78]], dtype=object)"
      ]
     },
     "execution_count": 8,
     "metadata": {},
     "output_type": "execute_result"
    }
   ],
   "source": [
    "X"
   ]
  },
  {
   "cell_type": "code",
   "execution_count": 9,
   "metadata": {},
   "outputs": [],
   "source": [
    "onehotencoder=OneHotEncoder(categorical_features=[1])\n",
    "X=onehotencoder.fit_transform(X).toarray()"
   ]
  },
  {
   "cell_type": "code",
   "execution_count": 10,
   "metadata": {},
   "outputs": [],
   "source": [
    "X=X[:, 1:]"
   ]
  },
  {
   "cell_type": "code",
   "execution_count": 11,
   "metadata": {},
   "outputs": [],
   "source": [
    "from sklearn.model_selection import train_test_split\n",
    "X_train , X_test, y_train, y_test=train_test_split(X, y, test_size=0.2, random_state=0)"
   ]
  },
  {
   "cell_type": "code",
   "execution_count": 12,
   "metadata": {},
   "outputs": [],
   "source": [
    "from sklearn.preprocessing import StandardScaler\n",
    "sc_X=StandardScaler()\n",
    "\n",
    "X_train=sc_X.fit_transform(X_train)\n",
    "X_test=sc_X.transform(X_test)\n"
   ]
  },
  {
   "cell_type": "code",
   "execution_count": 14,
   "metadata": {},
   "outputs": [],
   "source": [
    "import keras\n",
    "from keras.models import Sequential\n",
    "from keras.layers import Dense"
   ]
  },
  {
   "cell_type": "code",
   "execution_count": 15,
   "metadata": {},
   "outputs": [],
   "source": [
    "classifier=Sequential()"
   ]
  },
  {
   "cell_type": "code",
   "execution_count": 17,
   "metadata": {},
   "outputs": [
    {
     "name": "stderr",
     "output_type": "stream",
     "text": [
      "C:\\Users\\anchal.agarwal\\Anaconda3\\lib\\site-packages\\ipykernel_launcher.py:1: UserWarning: Update your `Dense` call to the Keras 2 API: `Dense(activation=\"relu\", input_dim=11, units=6, kernel_initializer=\"uniform\")`\n",
      "  \"\"\"Entry point for launching an IPython kernel.\n"
     ]
    }
   ],
   "source": [
    "classifier.add(Dense(output_dim=6,init='uniform',activation='relu',input_dim=11))\n"
   ]
  },
  {
   "cell_type": "code",
   "execution_count": 18,
   "metadata": {},
   "outputs": [
    {
     "name": "stderr",
     "output_type": "stream",
     "text": [
      "C:\\Users\\anchal.agarwal\\Anaconda3\\lib\\site-packages\\ipykernel_launcher.py:1: UserWarning: Update your `Dense` call to the Keras 2 API: `Dense(activation=\"relu\", units=6, kernel_initializer=\"uniform\")`\n",
      "  \"\"\"Entry point for launching an IPython kernel.\n"
     ]
    }
   ],
   "source": [
    "classifier.add(Dense(output_dim=6,init='uniform',activation='relu'))\n"
   ]
  },
  {
   "cell_type": "code",
   "execution_count": 19,
   "metadata": {},
   "outputs": [
    {
     "name": "stderr",
     "output_type": "stream",
     "text": [
      "C:\\Users\\anchal.agarwal\\Anaconda3\\lib\\site-packages\\ipykernel_launcher.py:1: UserWarning: Update your `Dense` call to the Keras 2 API: `Dense(activation=\"sigmoid\", units=1, kernel_initializer=\"uniform\")`\n",
      "  \"\"\"Entry point for launching an IPython kernel.\n"
     ]
    }
   ],
   "source": [
    "classifier.add(Dense(output_dim=1,init='uniform',activation='sigmoid'))\n"
   ]
  },
  {
   "cell_type": "code",
   "execution_count": 20,
   "metadata": {},
   "outputs": [],
   "source": [
    "classifier.compile(optimizer='adam',loss='binary_crossentropy',metrics=['accuracy'])"
   ]
  },
  {
   "cell_type": "code",
   "execution_count": 21,
   "metadata": {},
   "outputs": [
    {
     "name": "stderr",
     "output_type": "stream",
     "text": [
      "C:\\Users\\anchal.agarwal\\Anaconda3\\lib\\site-packages\\ipykernel_launcher.py:1: UserWarning: The `nb_epoch` argument in `fit` has been renamed `epochs`.\n",
      "  \"\"\"Entry point for launching an IPython kernel.\n"
     ]
    },
    {
     "name": "stdout",
     "output_type": "stream",
     "text": [
      "Epoch 1/100\n",
      "8000/8000 [==============================] - 16s 2ms/step - loss: 0.5145 - acc: 0.7960\n",
      "Epoch 2/100\n",
      "8000/8000 [==============================] - 4s 461us/step - loss: 0.4467 - acc: 0.7960\n",
      "Epoch 3/100\n",
      "8000/8000 [==============================] - 3s 398us/step - loss: 0.4322 - acc: 0.7960\n",
      "Epoch 4/100\n",
      "8000/8000 [==============================] - 3s 404us/step - loss: 0.4285 - acc: 0.7961\n",
      "Epoch 5/100\n",
      "8000/8000 [==============================] - 2s 255us/step - loss: 0.4248 - acc: 0.8081\n",
      "Epoch 6/100\n",
      "8000/8000 [==============================] - 1s 183us/step - loss: 0.4208 - acc: 0.8165\n",
      "Epoch 7/100\n",
      "8000/8000 [==============================] - 1s 178us/step - loss: 0.4179 - acc: 0.8211\n",
      "Epoch 8/100\n",
      "8000/8000 [==============================] - 1s 177us/step - loss: 0.4158 - acc: 0.8250\n",
      "Epoch 9/100\n",
      "8000/8000 [==============================] - 2s 205us/step - loss: 0.4131 - acc: 0.8285\n",
      "Epoch 10/100\n",
      "8000/8000 [==============================] - 2s 189us/step - loss: 0.4107 - acc: 0.8296\n",
      "Epoch 11/100\n",
      "8000/8000 [==============================] - 2s 188us/step - loss: 0.4094 - acc: 0.8306\n",
      "Epoch 12/100\n",
      "8000/8000 [==============================] - 2s 203us/step - loss: 0.4077 - acc: 0.8334\n",
      "Epoch 13/100\n",
      "8000/8000 [==============================] - 2s 211us/step - loss: 0.4065 - acc: 0.8330\n",
      "Epoch 14/100\n",
      "8000/8000 [==============================] - 2s 239us/step - loss: 0.4045 - acc: 0.8346\n",
      "Epoch 15/100\n",
      "8000/8000 [==============================] - 2s 208us/step - loss: 0.4029 - acc: 0.8349\n",
      "Epoch 16/100\n",
      "8000/8000 [==============================] - 2s 219us/step - loss: 0.4009 - acc: 0.8372\n",
      "Epoch 17/100\n",
      "8000/8000 [==============================] - 2s 248us/step - loss: 0.3980 - acc: 0.8366\n",
      "Epoch 18/100\n",
      "8000/8000 [==============================] - 2s 270us/step - loss: 0.3925 - acc: 0.8386\n",
      "Epoch 19/100\n",
      "8000/8000 [==============================] - 2s 198us/step - loss: 0.3839 - acc: 0.8412\n",
      "Epoch 20/100\n",
      "8000/8000 [==============================] - 1s 186us/step - loss: 0.3772 - acc: 0.8497\n",
      "Epoch 21/100\n",
      "8000/8000 [==============================] - 2s 210us/step - loss: 0.3713 - acc: 0.8477\n",
      "Epoch 22/100\n",
      "8000/8000 [==============================] - 2s 219us/step - loss: 0.3682 - acc: 0.8501\n",
      "Epoch 23/100\n",
      "8000/8000 [==============================] - 2s 207us/step - loss: 0.3666 - acc: 0.8477\n",
      "Epoch 24/100\n",
      "8000/8000 [==============================] - 2s 226us/step - loss: 0.3642 - acc: 0.8526\n",
      "Epoch 25/100\n",
      "8000/8000 [==============================] - 2s 211us/step - loss: 0.3632 - acc: 0.8519\n",
      "Epoch 26/100\n",
      "8000/8000 [==============================] - 2s 203us/step - loss: 0.3614 - acc: 0.8542\n",
      "Epoch 27/100\n",
      "8000/8000 [==============================] - 2s 208us/step - loss: 0.3585 - acc: 0.8557\n",
      "Epoch 28/100\n",
      "8000/8000 [==============================] - 2s 219us/step - loss: 0.3583 - acc: 0.8550\n",
      "Epoch 29/100\n",
      "8000/8000 [==============================] - 2s 216us/step - loss: 0.3568 - acc: 0.8519\n",
      "Epoch 30/100\n",
      "8000/8000 [==============================] - 2s 206us/step - loss: 0.3555 - acc: 0.8562\n",
      "Epoch 31/100\n",
      "8000/8000 [==============================] - 2s 201us/step - loss: 0.3545 - acc: 0.8570\n",
      "Epoch 32/100\n",
      "8000/8000 [==============================] - 2s 219us/step - loss: 0.3547 - acc: 0.8576\n",
      "Epoch 33/100\n",
      "8000/8000 [==============================] - 2s 208us/step - loss: 0.3522 - acc: 0.8562\n",
      "Epoch 34/100\n",
      "8000/8000 [==============================] - 2s 214us/step - loss: 0.3519 - acc: 0.8586\n",
      "Epoch 35/100\n",
      "8000/8000 [==============================] - 2s 205us/step - loss: 0.3517 - acc: 0.8591\n",
      "Epoch 36/100\n",
      "8000/8000 [==============================] - 2s 207us/step - loss: 0.3501 - acc: 0.8571\n",
      "Epoch 37/100\n",
      "8000/8000 [==============================] - 2s 224us/step - loss: 0.3507 - acc: 0.8591\n",
      "Epoch 38/100\n",
      "8000/8000 [==============================] - 2s 215us/step - loss: 0.3495 - acc: 0.8600\n",
      "Epoch 39/100\n",
      "8000/8000 [==============================] - 2s 212us/step - loss: 0.3489 - acc: 0.8600\n",
      "Epoch 40/100\n",
      "8000/8000 [==============================] - 2s 231us/step - loss: 0.3487 - acc: 0.8570\n",
      "Epoch 41/100\n",
      "8000/8000 [==============================] - 2s 211us/step - loss: 0.3493 - acc: 0.8576\n",
      "Epoch 42/100\n",
      "8000/8000 [==============================] - 2s 214us/step - loss: 0.3488 - acc: 0.8581\n",
      "Epoch 43/100\n",
      "8000/8000 [==============================] - 2s 220us/step - loss: 0.3484 - acc: 0.8585 1\n",
      "Epoch 44/100\n",
      "8000/8000 [==============================] - 2s 244us/step - loss: 0.3481 - acc: 0.8586\n",
      "Epoch 45/100\n",
      "8000/8000 [==============================] - 2s 229us/step - loss: 0.3485 - acc: 0.8584\n",
      "Epoch 46/100\n",
      "8000/8000 [==============================] - 2s 221us/step - loss: 0.3487 - acc: 0.8585\n",
      "Epoch 47/100\n",
      "8000/8000 [==============================] - 2s 217us/step - loss: 0.3465 - acc: 0.8599\n",
      "Epoch 48/100\n",
      "8000/8000 [==============================] - 2s 222us/step - loss: 0.3476 - acc: 0.8571\n",
      "Epoch 49/100\n",
      "8000/8000 [==============================] - 2s 232us/step - loss: 0.3459 - acc: 0.8617\n",
      "Epoch 50/100\n",
      "8000/8000 [==============================] - 2s 253us/step - loss: 0.3478 - acc: 0.8589\n",
      "Epoch 51/100\n",
      "8000/8000 [==============================] - 2s 237us/step - loss: 0.3481 - acc: 0.8580\n",
      "Epoch 52/100\n",
      "8000/8000 [==============================] - 2s 252us/step - loss: 0.3473 - acc: 0.8592\n",
      "Epoch 53/100\n",
      "8000/8000 [==============================] - 2s 246us/step - loss: 0.3467 - acc: 0.8577\n",
      "Epoch 54/100\n",
      "8000/8000 [==============================] - 2s 239us/step - loss: 0.3465 - acc: 0.8602\n",
      "Epoch 55/100\n",
      "8000/8000 [==============================] - 2s 233us/step - loss: 0.3464 - acc: 0.8609\n",
      "Epoch 56/100\n",
      "8000/8000 [==============================] - 2s 238us/step - loss: 0.3467 - acc: 0.8601\n",
      "Epoch 57/100\n",
      "8000/8000 [==============================] - 2s 244us/step - loss: 0.3470 - acc: 0.8584\n",
      "Epoch 58/100\n",
      "8000/8000 [==============================] - 2s 225us/step - loss: 0.3460 - acc: 0.8597\n",
      "Epoch 59/100\n",
      "8000/8000 [==============================] - 2s 230us/step - loss: 0.3454 - acc: 0.8611\n",
      "Epoch 60/100\n",
      "8000/8000 [==============================] - 2s 231us/step - loss: 0.3466 - acc: 0.8576\n",
      "Epoch 61/100\n",
      "8000/8000 [==============================] - 2s 229us/step - loss: 0.3470 - acc: 0.8597\n",
      "Epoch 62/100\n",
      "8000/8000 [==============================] - 2s 237us/step - loss: 0.3458 - acc: 0.8601\n",
      "Epoch 63/100\n",
      "8000/8000 [==============================] - 2s 225us/step - loss: 0.3445 - acc: 0.8582\n",
      "Epoch 64/100\n",
      "8000/8000 [==============================] - 2s 226us/step - loss: 0.3463 - acc: 0.8610\n",
      "Epoch 65/100\n",
      "8000/8000 [==============================] - 2s 225us/step - loss: 0.3459 - acc: 0.8595\n",
      "Epoch 66/100\n",
      "8000/8000 [==============================] - 2s 226us/step - loss: 0.3455 - acc: 0.8591\n",
      "Epoch 67/100\n",
      "8000/8000 [==============================] - 2s 231us/step - loss: 0.3462 - acc: 0.8577\n",
      "Epoch 68/100\n",
      "8000/8000 [==============================] - 2s 235us/step - loss: 0.3456 - acc: 0.8592\n",
      "Epoch 69/100\n",
      "8000/8000 [==============================] - 2s 220us/step - loss: 0.3455 - acc: 0.8606\n",
      "Epoch 70/100\n",
      "8000/8000 [==============================] - 2s 238us/step - loss: 0.3466 - acc: 0.8590\n",
      "Epoch 71/100\n",
      "8000/8000 [==============================] - 2s 234us/step - loss: 0.3452 - acc: 0.8594\n",
      "Epoch 72/100\n",
      "8000/8000 [==============================] - 2s 232us/step - loss: 0.3452 - acc: 0.8582\n",
      "Epoch 73/100\n",
      "8000/8000 [==============================] - 2s 233us/step - loss: 0.3454 - acc: 0.8636\n",
      "Epoch 74/100\n",
      "8000/8000 [==============================] - 2s 220us/step - loss: 0.3465 - acc: 0.8611\n",
      "Epoch 75/100\n",
      "8000/8000 [==============================] - 2s 218us/step - loss: 0.3450 - acc: 0.8591\n",
      "Epoch 76/100\n",
      "8000/8000 [==============================] - 2s 214us/step - loss: 0.3455 - acc: 0.8589\n",
      "Epoch 77/100\n",
      "8000/8000 [==============================] - 2s 224us/step - loss: 0.3470 - acc: 0.8579\n",
      "Epoch 78/100\n",
      "8000/8000 [==============================] - 2s 219us/step - loss: 0.3463 - acc: 0.8592\n",
      "Epoch 79/100\n",
      "8000/8000 [==============================] - 2s 221us/step - loss: 0.3455 - acc: 0.8596\n",
      "Epoch 80/100\n",
      "8000/8000 [==============================] - 2s 217us/step - loss: 0.3446 - acc: 0.8585\n",
      "Epoch 81/100\n",
      "8000/8000 [==============================] - 2s 215us/step - loss: 0.3456 - acc: 0.8605\n",
      "Epoch 82/100\n"
     ]
    },
    {
     "name": "stdout",
     "output_type": "stream",
     "text": [
      "8000/8000 [==============================] - 1s 173us/step - loss: 0.3457 - acc: 0.8605\n",
      "Epoch 83/100\n",
      "8000/8000 [==============================] - 1s 185us/step - loss: 0.3448 - acc: 0.8600\n",
      "Epoch 84/100\n",
      "8000/8000 [==============================] - 1s 173us/step - loss: 0.3453 - acc: 0.8604\n",
      "Epoch 85/100\n",
      "8000/8000 [==============================] - 1s 173us/step - loss: 0.3453 - acc: 0.8577\n",
      "Epoch 86/100\n",
      "8000/8000 [==============================] - 2s 233us/step - loss: 0.3457 - acc: 0.8609\n",
      "Epoch 87/100\n",
      "8000/8000 [==============================] - 2s 247us/step - loss: 0.3446 - acc: 0.8565 0s - loss: 0.3435 - ac\n",
      "Epoch 88/100\n",
      "8000/8000 [==============================] - 2s 247us/step - loss: 0.3447 - acc: 0.8586\n",
      "Epoch 89/100\n",
      "8000/8000 [==============================] - 2s 191us/step - loss: 0.3455 - acc: 0.8585\n",
      "Epoch 90/100\n",
      "8000/8000 [==============================] - 1s 177us/step - loss: 0.3451 - acc: 0.8607\n",
      "Epoch 91/100\n",
      "8000/8000 [==============================] - 1s 174us/step - loss: 0.3450 - acc: 0.8604\n",
      "Epoch 92/100\n",
      "8000/8000 [==============================] - 1s 186us/step - loss: 0.3454 - acc: 0.8602\n",
      "Epoch 93/100\n",
      "8000/8000 [==============================] - 1s 177us/step - loss: 0.3457 - acc: 0.8606\n",
      "Epoch 94/100\n",
      "8000/8000 [==============================] - 1s 174us/step - loss: 0.3457 - acc: 0.8595\n",
      "Epoch 95/100\n",
      "8000/8000 [==============================] - 1s 178us/step - loss: 0.3450 - acc: 0.8596\n",
      "Epoch 96/100\n",
      "8000/8000 [==============================] - 1s 185us/step - loss: 0.3434 - acc: 0.8595\n",
      "Epoch 97/100\n",
      "8000/8000 [==============================] - 1s 180us/step - loss: 0.3449 - acc: 0.8620\n",
      "Epoch 98/100\n",
      "8000/8000 [==============================] - 1s 181us/step - loss: 0.3443 - acc: 0.8580\n",
      "Epoch 99/100\n",
      "8000/8000 [==============================] - 1s 177us/step - loss: 0.3442 - acc: 0.8609\n",
      "Epoch 100/100\n",
      "8000/8000 [==============================] - 1s 181us/step - loss: 0.3447 - acc: 0.8615\n"
     ]
    },
    {
     "data": {
      "text/plain": [
       "<keras.callbacks.History at 0x29380179cc0>"
      ]
     },
     "execution_count": 21,
     "metadata": {},
     "output_type": "execute_result"
    }
   ],
   "source": [
    "classifier.fit(X_train, y_train, batch_size=10, nb_epoch=100)"
   ]
  },
  {
   "cell_type": "code",
   "execution_count": 22,
   "metadata": {},
   "outputs": [],
   "source": [
    "y_pred=classifier.predict(X_test)\n",
    "y_pred=(y_pred>0.5)"
   ]
  },
  {
   "cell_type": "code",
   "execution_count": 23,
   "metadata": {},
   "outputs": [],
   "source": [
    "from sklearn.metrics import confusion_matrix\n",
    "cm=confusion_matrix(y_test,y_pred)\n",
    "cm=confusion_matrix(y_test,y_pred)"
   ]
  },
  {
   "cell_type": "code",
   "execution_count": null,
   "metadata": {},
   "outputs": [],
   "source": []
  }
 ],
 "metadata": {
  "kernelspec": {
   "display_name": "Python 3",
   "language": "python",
   "name": "python3"
  },
  "language_info": {
   "codemirror_mode": {
    "name": "ipython",
    "version": 3
   },
   "file_extension": ".py",
   "mimetype": "text/x-python",
   "name": "python",
   "nbconvert_exporter": "python",
   "pygments_lexer": "ipython3",
   "version": "3.6.5"
  }
 },
 "nbformat": 4,
 "nbformat_minor": 2
}
